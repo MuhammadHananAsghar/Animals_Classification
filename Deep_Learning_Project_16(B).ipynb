{
  "nbformat": 4,
  "nbformat_minor": 0,
  "metadata": {
    "colab": {
      "name": "Deep Learning Project -16(B).ipynb",
      "provenance": []
    },
    "kernelspec": {
      "name": "python3",
      "display_name": "Python 3"
    },
    "language_info": {
      "name": "python"
    },
    "accelerator": "GPU"
  },
  "cells": [
    {
      "cell_type": "code",
      "metadata": {
        "colab": {
          "base_uri": "https://localhost:8080/"
        },
        "id": "opLnV8VWOd-Y",
        "outputId": "5bed59c8-af53-4663-b7c0-2f73363e5c2b"
      },
      "source": [
        "from google.colab import drive\n",
        "drive.mount('/content/drive')"
      ],
      "execution_count": 1,
      "outputs": [
        {
          "output_type": "stream",
          "text": [
            "Mounted at /content/drive\n"
          ],
          "name": "stdout"
        }
      ]
    },
    {
      "cell_type": "code",
      "metadata": {
        "id": "1MuD-ML6PCK-"
      },
      "source": [
        "!unzip /content/drive/MyDrive/data_animals.zip"
      ],
      "execution_count": null,
      "outputs": []
    },
    {
      "cell_type": "code",
      "metadata": {
        "colab": {
          "base_uri": "https://localhost:8080/"
        },
        "id": "Sf9_mcfgOsZ7",
        "outputId": "6c393865-7527-4dac-cc40-c4aea7955294"
      },
      "source": [
        "!pip install -q keras-tuner"
      ],
      "execution_count": 2,
      "outputs": [
        {
          "output_type": "stream",
          "text": [
            "\u001b[?25l\r\u001b[K     |█████▏                          | 10kB 26.5MB/s eta 0:00:01\r\u001b[K     |██████████▍                     | 20kB 32.1MB/s eta 0:00:01\r\u001b[K     |███████████████▋                | 30kB 39.0MB/s eta 0:00:01\r\u001b[K     |████████████████████▉           | 40kB 25.6MB/s eta 0:00:01\r\u001b[K     |██████████████████████████      | 51kB 16.8MB/s eta 0:00:01\r\u001b[K     |███████████████████████████████▎| 61kB 14.6MB/s eta 0:00:01\r\u001b[K     |████████████████████████████████| 71kB 5.6MB/s \n",
            "\u001b[?25h  Building wheel for keras-tuner (setup.py) ... \u001b[?25l\u001b[?25hdone\n",
            "  Building wheel for terminaltables (setup.py) ... \u001b[?25l\u001b[?25hdone\n"
          ],
          "name": "stdout"
        }
      ]
    },
    {
      "cell_type": "code",
      "metadata": {
        "id": "X1fKn-Q7Oy_7"
      },
      "source": [
        "from tensorflow import keras\n",
        "import os\n",
        "from tensorflow.keras.layers import Conv2D, MaxPooling2D, Flatten\n",
        "from tensorflow.keras.models import Sequential\n",
        "from tensorflow.keras.layers import Dense, Dropout\n",
        "from kerastuner import RandomSearch\n",
        "from tensorflow.keras.preprocessing.image import ImageDataGenerator"
      ],
      "execution_count": 14,
      "outputs": []
    },
    {
      "cell_type": "code",
      "metadata": {
        "colab": {
          "base_uri": "https://localhost:8080/"
        },
        "id": "-pHyGiTwO0CM",
        "outputId": "7f33693c-03f0-4928-b32d-310d35382bca"
      },
      "source": [
        "cnn = Sequential()\n",
        "cnn.add(Conv2D(filters=64,\n",
        "                 kernel_size=(5, 5),\n",
        "                 input_shape=(70, 70, 3), \n",
        "                 activation='relu')) \n",
        "  \n",
        "cnn.add(MaxPooling2D(pool_size=(2, 2)))\n",
        "   \n",
        "cnn.add(Conv2D(filters=112,\n",
        "                 kernel_size=(5, 5),\n",
        "                 activation='relu'))\n",
        "  \n",
        "cnn.add(MaxPooling2D(pool_size=(2, 2)))\n",
        "  \n",
        "cnn.add(Flatten())\n",
        "\n",
        "cnn.add(Dense(units=212,\n",
        "                activation='relu'))\n",
        "cnn.add(Dropout(rate=0.5))\n",
        "\n",
        "cnn.add(Dense(units=10, activation='softmax'))\n",
        "\n",
        "cnn.compile(optimizer=keras.optimizers.RMSprop(lr=0.001),\n",
        "              loss='categorical_crossentropy',\n",
        "              metrics=['accuracy'])"
      ],
      "execution_count": 23,
      "outputs": [
        {
          "output_type": "stream",
          "text": [
            "/usr/local/lib/python3.7/dist-packages/tensorflow/python/keras/optimizer_v2/optimizer_v2.py:375: UserWarning: The `lr` argument is deprecated, use `learning_rate` instead.\n",
            "  \"The `lr` argument is deprecated, use `learning_rate` instead.\")\n"
          ],
          "name": "stderr"
        }
      ]
    },
    {
      "cell_type": "code",
      "metadata": {
        "colab": {
          "base_uri": "https://localhost:8080/"
        },
        "id": "T0Npvw75PHAa",
        "outputId": "a2fe1c66-76d7-4138-b876-f94307cbb6cb"
      },
      "source": [
        "train_datagen = ImageDataGenerator(\n",
        "        rescale=1./255,\n",
        "        rotation_range=0.2,\n",
        "        zoom_range=0.2,\n",
        "        horizontal_flip=True)\n",
        "test_datagen = ImageDataGenerator(rescale=1./255)\n",
        "train_ds = train_datagen.flow_from_directory(\n",
        "        '/content/data/train',\n",
        "        target_size=(70, 70),\n",
        "        batch_size=32,\n",
        "        class_mode='categorical')\n",
        "val_ds = test_datagen.flow_from_directory(\n",
        "        '/content/data/valid',\n",
        "        target_size=(70, 70),\n",
        "        batch_size=32,\n",
        "        class_mode='categorical')"
      ],
      "execution_count": 24,
      "outputs": [
        {
          "output_type": "stream",
          "text": [
            "Found 4498 images belonging to 10 classes.\n",
            "Found 500 images belonging to 10 classes.\n"
          ],
          "name": "stdout"
        }
      ]
    },
    {
      "cell_type": "code",
      "metadata": {
        "colab": {
          "base_uri": "https://localhost:8080/"
        },
        "id": "z_TJM8nhWKLN",
        "outputId": "72af592b-49ae-4e4e-f318-9c9aae742cc2"
      },
      "source": [
        "cnn.fit_generator(train_ds, epochs=10, validation_data=val_ds)"
      ],
      "execution_count": 25,
      "outputs": [
        {
          "output_type": "stream",
          "text": [
            "/usr/local/lib/python3.7/dist-packages/tensorflow/python/keras/engine/training.py:1940: UserWarning: `Model.fit_generator` is deprecated and will be removed in a future version. Please use `Model.fit`, which supports generators.\n",
            "  warnings.warn('`Model.fit_generator` is deprecated and '\n"
          ],
          "name": "stderr"
        },
        {
          "output_type": "stream",
          "text": [
            "Epoch 1/10\n",
            "141/141 [==============================] - 118s 833ms/step - loss: 2.2061 - accuracy: 0.2428 - val_loss: 1.7956 - val_accuracy: 0.3680\n",
            "Epoch 2/10\n",
            "141/141 [==============================] - 117s 827ms/step - loss: 1.7201 - accuracy: 0.4169 - val_loss: 1.4052 - val_accuracy: 0.5460\n",
            "Epoch 3/10\n",
            "141/141 [==============================] - 117s 825ms/step - loss: 1.4193 - accuracy: 0.5227 - val_loss: 1.0809 - val_accuracy: 0.6480\n",
            "Epoch 4/10\n",
            "141/141 [==============================] - 118s 832ms/step - loss: 1.1695 - accuracy: 0.6203 - val_loss: 0.7335 - val_accuracy: 0.7420\n",
            "Epoch 5/10\n",
            "141/141 [==============================] - 118s 833ms/step - loss: 0.9454 - accuracy: 0.6896 - val_loss: 0.5708 - val_accuracy: 0.8440\n",
            "Epoch 6/10\n",
            "141/141 [==============================] - 117s 830ms/step - loss: 0.7568 - accuracy: 0.7543 - val_loss: 0.4393 - val_accuracy: 0.8620\n",
            "Epoch 7/10\n",
            "141/141 [==============================] - 117s 828ms/step - loss: 0.6352 - accuracy: 0.7872 - val_loss: 0.2769 - val_accuracy: 0.9080\n",
            "Epoch 8/10\n",
            "141/141 [==============================] - 118s 833ms/step - loss: 0.5231 - accuracy: 0.8330 - val_loss: 0.2188 - val_accuracy: 0.9280\n",
            "Epoch 9/10\n",
            "141/141 [==============================] - 117s 828ms/step - loss: 0.4440 - accuracy: 0.8577 - val_loss: 0.4944 - val_accuracy: 0.8380\n",
            "Epoch 10/10\n",
            "141/141 [==============================] - 117s 829ms/step - loss: 0.4154 - accuracy: 0.8693 - val_loss: 0.1122 - val_accuracy: 0.9860\n"
          ],
          "name": "stdout"
        },
        {
          "output_type": "execute_result",
          "data": {
            "text/plain": [
              "<tensorflow.python.keras.callbacks.History at 0x7fc9a62f8890>"
            ]
          },
          "metadata": {
            "tags": []
          },
          "execution_count": 25
        }
      ]
    },
    {
      "cell_type": "code",
      "metadata": {
        "colab": {
          "base_uri": "https://localhost:8080/"
        },
        "id": "OITQUmtlbGuF",
        "outputId": "250d097d-c7c9-43fc-e5d3-c193af32002c"
      },
      "source": [
        "!pip install tensorflowjs"
      ],
      "execution_count": 26,
      "outputs": [
        {
          "output_type": "stream",
          "text": [
            "Successfully installed tensorflow-hub-0.9.0 tensorflowjs-3.6.0\n"
          ],
          "name": "stdout"
        }
      ]
    },
    {
      "cell_type": "code",
      "metadata": {
        "id": "eI1BSCMjbS9g"
      },
      "source": [
        "import tensorflowjs as tfjs"
      ],
      "execution_count": 28,
      "outputs": []
    },
    {
      "cell_type": "code",
      "metadata": {
        "id": "5GebFObvbG4C"
      },
      "source": [
        "tfjs.converters.save_keras_model(cnn, \"/content\")"
      ],
      "execution_count": 30,
      "outputs": []
    },
    {
      "cell_type": "code",
      "metadata": {
        "id": "B_h6LlaybG7G"
      },
      "source": [
        "model_json = cnn.to_json()\n",
        "with open(\"model_keras_b.json\", \"w\") as json_file:\n",
        "    json_file.write(model_json)\n",
        "\n",
        "cnn.save_weights(\"model_keras_b.h5\")"
      ],
      "execution_count": 31,
      "outputs": []
    },
    {
      "cell_type": "code",
      "metadata": {
        "id": "KwM9wBAabG_I"
      },
      "source": [
        ""
      ],
      "execution_count": null,
      "outputs": []
    }
  ]
}